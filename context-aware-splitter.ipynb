{
 "cells": [
  {
   "cell_type": "code",
   "execution_count": 1,
   "id": "2746f6c2",
   "metadata": {},
   "outputs": [],
   "source": [
    "import os\n",
    "import openai\n",
    "import sys\n",
    "import json\n",
    "sys.path.append('../..')"
   ]
  },
  {
   "cell_type": "code",
   "execution_count": 2,
   "id": "21d1dee7",
   "metadata": {},
   "outputs": [],
   "source": [
    "openai.api_key = os.environ['OPENAI_API_KEY']"
   ]
  },
  {
   "cell_type": "markdown",
   "id": "ff27961f-e1dc-4447-80ea-9a23672759e4",
   "metadata": {},
   "source": [
    "<h2>Load Source Text</h2>"
   ]
  },
  {
   "cell_type": "code",
   "execution_count": 3,
   "id": "e8b524cf-e97e-47b5-a8f1-efe3116b3eb8",
   "metadata": {},
   "outputs": [],
   "source": [
    "from langchain_community.document_loaders import TextLoader\n",
    "loader = TextLoader(\"data/fruits_and_veggies.txt\")\n",
    "documents = loader.load()"
   ]
  },
  {
   "cell_type": "code",
   "execution_count": 4,
   "id": "617ae75a-2dda-493e-bc23-f2c18278a473",
   "metadata": {},
   "outputs": [
    {
     "data": {
      "text/plain": [
       "{'source': 'data/fruits_and_veggies.txt'}"
      ]
     },
     "execution_count": 4,
     "metadata": {},
     "output_type": "execute_result"
    }
   ],
   "source": [
    "documents[0].metadata"
   ]
  },
  {
   "cell_type": "code",
   "execution_count": 5,
   "id": "b04eca49-25a6-4ffa-9034-60df8e70d4ce",
   "metadata": {},
   "outputs": [
    {
     "name": "stdout",
     "output_type": "stream",
     "text": [
      "The Amanita phalloides has a large and imposing epigeous (above ground) fruiting body (basidiocrap). \n",
      "A mushroom with a large fruiting body is the Amanita phalloides. Some varieties are all white. \n",
      "AA. Phalloides, a.k.a Death Cap, is one of the most poisonous of all known mushrooms.\n",
      "Gala apples are a popular variety known for their sweet flavor and crisp texture. \n",
      "They have a distinctive reddish-orange skin with yellow striping, making them visually appealing in fruit displays. \n",
      "Originally developed in New Zealand in the 1930s, they have since become a favorite in many countries and are widely cultivated for consumption. \n",
      "Their versatility makes them perfect for both eating fresh and using in various culinary dishes.\n",
      "Radishes are small, root vegetables with a sharp, peppery flavor that can range from mild to spicy. \n",
      "They are usually round or cylindrical in shape and can come in various colors, including red, white, purple, and black. \n",
      "Rich in vitamins and minerals, radishes are often consumed raw in salads, but can also be cooked or pickled for different culinary applications. \n",
      "Their crunchy texture and vibrant color make them a popular addition to dishes, adding both taste and aesthetic appeal.\n",
      "\n"
     ]
    }
   ],
   "source": [
    "print(documents[0].page_content)"
   ]
  },
  {
   "cell_type": "markdown",
   "id": "ec782ea0-7b73-46d0-b9f9-603e907d8b29",
   "metadata": {},
   "source": [
    "<h2>Split the document</h2>"
   ]
  },
  {
   "cell_type": "code",
   "execution_count": 6,
   "id": "c247b0c9-1f5a-4a4c-a9b9-540cf3ca37d1",
   "metadata": {},
   "outputs": [],
   "source": [
    "from langchain_text_splitters import RecursiveCharacterTextSplitter"
   ]
  },
  {
   "cell_type": "code",
   "execution_count": 7,
   "id": "0b94cefe-f77b-424b-b1a5-de2a7bd69c1f",
   "metadata": {},
   "outputs": [],
   "source": [
    "chunk_size = 100\n",
    "chunk_overlap = 0"
   ]
  },
  {
   "cell_type": "code",
   "execution_count": 8,
   "id": "1f0e91ee-e5f7-44d9-96d9-72c0cbc23618",
   "metadata": {},
   "outputs": [],
   "source": [
    "text_splitter = RecursiveCharacterTextSplitter(\n",
    "    chunk_size = chunk_size,\n",
    "    chunk_overlap = chunk_overlap\n",
    ")"
   ]
  },
  {
   "cell_type": "code",
   "execution_count": 9,
   "id": "5164cf9d-3d5b-47d9-b2df-5c94d65aafc6",
   "metadata": {},
   "outputs": [],
   "source": [
    "chunks = text_splitter.split_documents(documents)"
   ]
  },
  {
   "cell_type": "code",
   "execution_count": 10,
   "id": "30aa9d09-5243-4838-a671-e89e7f3266f4",
   "metadata": {
    "scrolled": true
   },
   "outputs": [
    {
     "name": "stdout",
     "output_type": "stream",
     "text": [
      "The Amanita phalloides has a large and imposing epigeous (above ground) fruiting body (basidiocrap).\n",
      "-----\n",
      "A mushroom with a large fruiting body is the Amanita phalloides. Some varieties are all white.\n",
      "-----\n",
      "AA. Phalloides, a.k.a Death Cap, is one of the most poisonous of all known mushrooms.\n",
      "-----\n",
      "Gala apples are a popular variety known for their sweet flavor and crisp texture.\n",
      "-----\n",
      "They have a distinctive reddish-orange skin with yellow striping, making them visually appealing in\n",
      "-----\n",
      "fruit displays.\n",
      "-----\n",
      "Originally developed in New Zealand in the 1930s, they have since become a favorite in many\n",
      "-----\n",
      "countries and are widely cultivated for consumption.\n",
      "-----\n",
      "Their versatility makes them perfect for both eating fresh and using in various culinary dishes.\n",
      "-----\n",
      "Radishes are small, root vegetables with a sharp, peppery flavor that can range from mild to spicy.\n",
      "-----\n",
      "They are usually round or cylindrical in shape and can come in various colors, including red,\n",
      "-----\n",
      "white, purple, and black.\n",
      "-----\n",
      "Rich in vitamins and minerals, radishes are often consumed raw in salads, but can also be cooked or\n",
      "-----\n",
      "pickled for different culinary applications.\n",
      "-----\n",
      "Their crunchy texture and vibrant color make them a popular addition to dishes, adding both taste\n",
      "-----\n",
      "and aesthetic appeal.\n",
      "-----\n"
     ]
    }
   ],
   "source": [
    "for chunk in chunks:\n",
    "    print(chunk.page_content)\n",
    "    print(\"-----\")"
   ]
  },
  {
   "cell_type": "markdown",
   "id": "9a51468c-8078-48ec-bed2-9f056fcf6c6d",
   "metadata": {},
   "source": [
    "## Index chunks into a vector db (ChromaDB)"
   ]
  },
  {
   "cell_type": "code",
   "execution_count": 11,
   "id": "1447a98c-cb64-4712-a3cb-86454c232454",
   "metadata": {},
   "outputs": [],
   "source": [
    "from langchain_openai import OpenAIEmbeddings\n",
    "from langchain_chroma import Chroma"
   ]
  },
  {
   "cell_type": "code",
   "execution_count": 12,
   "id": "7993fdd7-6a00-4f76-b5b1-fc73ae46fdd7",
   "metadata": {},
   "outputs": [],
   "source": [
    "vectorstore = Chroma.from_documents(documents=chunks, embedding=OpenAIEmbeddings())"
   ]
  },
  {
   "cell_type": "markdown",
   "id": "c82cfe7f-92db-4fe9-8cf4-0a02cdd06869",
   "metadata": {},
   "source": [
    "### Test Similarity Search"
   ]
  },
  {
   "cell_type": "code",
   "execution_count": 13,
   "id": "e1b13337-0d6e-453a-8bc1-024e1d177e87",
   "metadata": {},
   "outputs": [
    {
     "data": {
      "text/plain": [
       "[Document(metadata={'source': 'data/fruits_and_veggies.txt'}, page_content='The Amanita phalloides has a large and imposing epigeous (above ground) fruiting body (basidiocrap).'),\n",
       " Document(metadata={'source': 'data/fruits_and_veggies.txt'}, page_content='A mushroom with a large fruiting body is the Amanita phalloides. Some varieties are all white.'),\n",
       " Document(metadata={'source': 'data/fruits_and_veggies.txt'}, page_content='AA. Phalloides, a.k.a Death Cap, is one of the most poisonous of all known mushrooms.'),\n",
       " Document(metadata={'source': 'data/fruits_and_veggies.txt'}, page_content='fruit displays.')]"
      ]
     },
     "execution_count": 13,
     "metadata": {},
     "output_type": "execute_result"
    }
   ],
   "source": [
    "vectorstore.similarity_search(\"Amanita phalloides\")"
   ]
  },
  {
   "cell_type": "code",
   "execution_count": 14,
   "id": "e50041ad-a49b-4550-a491-05900d8ee883",
   "metadata": {},
   "outputs": [
    {
     "data": {
      "text/plain": [
       "[(Document(metadata={'source': 'data/fruits_and_veggies.txt'}, page_content='The Amanita phalloides has a large and imposing epigeous (above ground) fruiting body (basidiocrap).'),\n",
       "  0.15804393589496613),\n",
       " (Document(metadata={'source': 'data/fruits_and_veggies.txt'}, page_content='A mushroom with a large fruiting body is the Amanita phalloides. Some varieties are all white.'),\n",
       "  0.17331014573574066),\n",
       " (Document(metadata={'source': 'data/fruits_and_veggies.txt'}, page_content='AA. Phalloides, a.k.a Death Cap, is one of the most poisonous of all known mushrooms.'),\n",
       "  0.2606315314769745),\n",
       " (Document(metadata={'source': 'data/fruits_and_veggies.txt'}, page_content='fruit displays.'),\n",
       "  0.44001755118370056)]"
      ]
     },
     "execution_count": 14,
     "metadata": {},
     "output_type": "execute_result"
    }
   ],
   "source": [
    "# Note that providers implement different scores; Chroma here\n",
    "# returns a distance metric that should vary inversely with similarity.\n",
    "vectorstore.similarity_search_with_score(\"Amanita phalloides\")"
   ]
  },
  {
   "cell_type": "code",
   "execution_count": null,
   "id": "2b2dc439-e2c5-4696-94c7-ea42cf428f01",
   "metadata": {},
   "outputs": [],
   "source": []
  },
  {
   "cell_type": "markdown",
   "id": "9ec532d5-e82c-4012-8a39-51c01232a1ba",
   "metadata": {},
   "source": [
    "## Init LLM"
   ]
  },
  {
   "cell_type": "code",
   "execution_count": 15,
   "id": "603dbaec-f11e-46d0-a396-3b9b1773fc2d",
   "metadata": {},
   "outputs": [],
   "source": [
    "from langchain_openai import ChatOpenAI\n",
    "llm = ChatOpenAI(model=\"gpt-4o\")"
   ]
  },
  {
   "cell_type": "markdown",
   "id": "ebf631b8-9d87-4e90-86ec-2e79b7b51fd4",
   "metadata": {},
   "source": [
    "## Prepare prompt (Augmentation Step)"
   ]
  },
  {
   "cell_type": "code",
   "execution_count": 16,
   "id": "11e21a31-9aa3-45ef-b62d-205d3041b2b8",
   "metadata": {},
   "outputs": [],
   "source": [
    "from langchain_core.prompts import PromptTemplate\n",
    "\n",
    "template = \"\"\"\n",
    "    You are an assistant for question-answering tasks. Use the following pieces of retrieved context to answer the question. \n",
    "    If you don't know the answer, just say that you don't know. Use three sentences maximum and keep the answer concise.\n",
    "    \n",
    "    Question: {question} \n",
    "    \n",
    "    Context: {context} \n",
    "    \n",
    "    Answer:\n",
    "\"\"\"\n",
    "prompt = PromptTemplate.from_template(template)"
   ]
  },
  {
   "cell_type": "code",
   "execution_count": null,
   "id": "cf2e5831-4fe7-444b-a9e9-8e04fea00693",
   "metadata": {},
   "outputs": [],
   "source": [
    "from langchain import hub\n",
    "prompt = hub.pull(\"rlm/rag-prompt\")"
   ]
  },
  {
   "cell_type": "markdown",
   "id": "75c5685b-631f-405e-92d3-394f87bc69d5",
   "metadata": {},
   "source": [
    "## Setup retrieval"
   ]
  },
  {
   "cell_type": "code",
   "execution_count": 17,
   "id": "6ce16065-ae39-4d06-8217-5c2240bd06db",
   "metadata": {},
   "outputs": [],
   "source": [
    "retriever = vectorstore.as_retriever(search_type=\"similarity\", search_kwargs={\"k\": 1})"
   ]
  },
  {
   "cell_type": "code",
   "execution_count": 18,
   "id": "63cdf60d-af49-4250-b8a1-3945c19aff1a",
   "metadata": {},
   "outputs": [
    {
     "data": {
      "text/plain": [
       "1"
      ]
     },
     "execution_count": 18,
     "metadata": {},
     "output_type": "execute_result"
    }
   ],
   "source": [
    "retrieved_docs = retriever.invoke(\"Amanita phalloides\")\n",
    "\n",
    "len(retrieved_docs)"
   ]
  },
  {
   "cell_type": "code",
   "execution_count": 20,
   "id": "c6c022c2-4368-4e1b-8a9a-d08fd4c34a33",
   "metadata": {},
   "outputs": [
    {
     "data": {
      "text/plain": [
       "'The Amanita phalloides has a large and imposing epigeous (above ground) fruiting body (basidiocrap).'"
      ]
     },
     "execution_count": 20,
     "metadata": {},
     "output_type": "execute_result"
    }
   ],
   "source": [
    "retrieved_docs[0].page_content"
   ]
  },
  {
   "cell_type": "code",
   "execution_count": 21,
   "id": "e9937948-a15e-42b9-a481-b6defd4ef2c2",
   "metadata": {},
   "outputs": [],
   "source": [
    "def format_docs(docs):\n",
    "    return \"\\n\\n\".join(doc.page_content for doc in docs)"
   ]
  },
  {
   "cell_type": "code",
   "execution_count": 22,
   "id": "64d1f208-1a1e-4142-a888-302a712b9d75",
   "metadata": {},
   "outputs": [
    {
     "data": {
      "text/plain": [
       "'The Amanita phalloides has a large and imposing epigeous (above ground) fruiting body (basidiocrap).'"
      ]
     },
     "execution_count": 22,
     "metadata": {},
     "output_type": "execute_result"
    }
   ],
   "source": [
    "format_docs(retriever.invoke(\"Amanita phalloides\"))"
   ]
  },
  {
   "cell_type": "markdown",
   "id": "e37f6334-c865-4d34-b8df-67344175cedc",
   "metadata": {},
   "source": [
    "## Build RAG chain"
   ]
  },
  {
   "cell_type": "code",
   "execution_count": 24,
   "id": "6ab7af37-2a04-4568-a220-cb9af3359f99",
   "metadata": {},
   "outputs": [],
   "source": [
    "from langchain_core.output_parsers import StrOutputParser\n",
    "from langchain_core.runnables import RunnablePassthrough\n",
    "rag_chain = (\n",
    "    {\"context\": retriever | format_docs, \"question\": RunnablePassthrough()}\n",
    "    | prompt\n",
    "    | llm\n",
    "    | StrOutputParser()\n",
    ")"
   ]
  },
  {
   "cell_type": "code",
   "execution_count": 25,
   "id": "f167d7b4-291f-4f7c-b543-01f6550fa787",
   "metadata": {},
   "outputs": [
    {
     "data": {
      "text/plain": [
       "'The Amanita phalloides has a large and imposing above-ground fruiting body known as a basidiocarp.'"
      ]
     },
     "execution_count": 25,
     "metadata": {},
     "output_type": "execute_result"
    }
   ],
   "source": [
    "rag_chain.invoke(\"tell me about Amanita phalloides\")"
   ]
  },
  {
   "cell_type": "code",
   "execution_count": null,
   "id": "8120bc7c-147a-4c1d-b411-3e826cd10d00",
   "metadata": {},
   "outputs": [],
   "source": []
  },
  {
   "cell_type": "markdown",
   "id": "8010d3a6-0ba5-4f2f-9c8b-20681c146452",
   "metadata": {},
   "source": [
    "## Context Aware Text Splitter"
   ]
  },
  {
   "cell_type": "code",
   "execution_count": null,
   "id": "81dd5024-381d-4262-a9de-96884918ae2c",
   "metadata": {},
   "outputs": [],
   "source": [
    "documents"
   ]
  },
  {
   "cell_type": "code",
   "execution_count": 26,
   "id": "3debc733-3515-405a-9e58-c4ef64b24a0a",
   "metadata": {},
   "outputs": [],
   "source": [
    "def llm_similarity(text1, text2):\n",
    "    template = \"\"\"\n",
    "    Analyze the contextual relationship between the following two texts:\n",
    "    \n",
    "    Text 1: {text1}\n",
    "    Text 2: {text2}\n",
    "    \n",
    "    Evaluate whether Text 2 completes or extends the context of Text 1, or if they are separate and unrelated. Assign a float score from 0 to 1, where:\n",
    "    \n",
    "    0 = The texts are entirely unrelated and should be split\n",
    "    1 = The texts are strongly connected and belong to the same context\n",
    "    \n",
    "    Consider factors such as:\n",
    "    \n",
    "    Thematic continuity\n",
    "    Logical flow\n",
    "    Shared subject matter\n",
    "    Narrative or argumentative progression\n",
    "    Linguistic cohesion\n",
    "    Provide only a single float value between 0 and 1 as your response, with up to two decimal places. For example: 0.75\n",
    "    \n",
    "    Ensure your answer contains nothing but the float value. Double-check your response before submitting\"\"\"\n",
    "    \n",
    "    prompt = PromptTemplate.from_template(template)\n",
    "    chain = prompt | llm | StrOutputParser()\n",
    "\n",
    "    similarity = chain.invoke({\"text1\": text1, \"text2\": text2})\n",
    "    return float(similarity.replace('.\\n\\n', ''))"
   ]
  },
  {
   "cell_type": "code",
   "execution_count": 28,
   "id": "64290a4c-dc0d-495e-9861-0a678d13e21e",
   "metadata": {},
   "outputs": [
    {
     "data": {
      "text/plain": [
       "0.85"
      ]
     },
     "execution_count": 28,
     "metadata": {},
     "output_type": "execute_result"
    }
   ],
   "source": [
    "llm_similarity(\"\"\"The Amanita phalloides has a large and imposing epigeous (above ground) fruiting body (basidiocrap).\"\"\",\n",
    "               \"\"\"A mushroom with a large fruiting body is the Amanita phalloides. Some varieties are all white.\"\"\")"
   ]
  },
  {
   "cell_type": "code",
   "execution_count": 29,
   "id": "b2348bc6-c15b-407c-962d-6f495af98ef0",
   "metadata": {},
   "outputs": [],
   "source": [
    "def merge_metadata(metadatas):\n",
    "    merged_metadata = {}\n",
    "    for metadata in metadatas:\n",
    "        for key, value in metadata.items():\n",
    "            if key in merged_metadata:\n",
    "                merged_metadata[key] += \" \" + value  \n",
    "            else:\n",
    "                merged_metadata[key] = value\n",
    "    return merged_metadata"
   ]
  },
  {
   "cell_type": "code",
   "execution_count": 30,
   "id": "85c6de38-0a9b-4b06-96af-b58b5afb5e96",
   "metadata": {},
   "outputs": [],
   "source": [
    "from langchain_core.documents import Document\n",
    "\n",
    "def context_text_splitter_with_llm(documents, step_size, chunk_size, max_chunk_size):\n",
    "    # Split the text\n",
    "    # Ensure you have RecursiveCharacterTextSplitter defined and available\n",
    "    text_splitter = RecursiveCharacterTextSplitter(chunk_size=step_size, chunk_overlap=0)\n",
    "\n",
    "    docs = text_splitter.split_documents(documents)\n",
    "\n",
    "    step_chunks = [doc.page_content for doc in docs]\n",
    "    step_metadata = [doc.metadata for doc in docs]\n",
    "\n",
    "    merged_chunks = []\n",
    "    merged_metadata_chunks = []\n",
    "\n",
    "    while len(step_chunks) > 0:\n",
    "        if len(''.join(step_chunks)) < chunk_size:\n",
    "            break\n",
    "        \n",
    "        current_chunk = ''.join(step_chunks[:chunk_size//step_size])\n",
    "        current_metadata = merge_metadata(step_metadata[:chunk_size//step_size])\n",
    "        \n",
    "        step_chunks = step_chunks[chunk_size//step_size:]\n",
    "        step_metadata = step_metadata[chunk_size//step_size:]\n",
    "\n",
    "        chunk_appended = False\n",
    "\n",
    "        while len(step_chunks) > 0:\n",
    "            next_step_chunk = step_chunks.pop(0)\n",
    "            next_step_chunk_metadata = step_metadata.pop(0)\n",
    "\n",
    "            similarity_score = llm_similarity(current_chunk, next_step_chunk)\n",
    "\n",
    "            if similarity_score > 0.49 and len(current_chunk) + len(next_step_chunk) <= max_chunk_size:\n",
    "                current_chunk += \" \" + next_step_chunk\n",
    "                current_metadata = merge_metadata([current_metadata, next_step_chunk_metadata])\n",
    "            else:\n",
    "                merged_chunks.append(\" \" + current_chunk)\n",
    "                merged_metadata_chunks.append(current_metadata)\n",
    "                \n",
    "                chunk_appended = True\n",
    "                \n",
    "                step_chunks.insert(0, next_step_chunk)\n",
    "                step_metadata.insert(0, next_step_chunk_metadata)\n",
    "                \n",
    "                break\n",
    "\n",
    "        if not chunk_appended:\n",
    "            merged_chunks.append(\" \" + current_chunk)\n",
    "            merged_metadata_chunks.append(current_metadata)\n",
    "\n",
    "    if len(step_chunks) > 0:\n",
    "        merged_chunks.append(' '.join(step_chunks))\n",
    "        merged_metadata_chunks.append(merge_metadata(step_metadata))\n",
    "\n",
    "    merged_docs = []\n",
    "    for chunk, metadata in zip(merged_chunks, merged_metadata_chunks):\n",
    "        merged_docs.append(Document(page_content=chunk, metadata=metadata))\n",
    "\n",
    "    return merged_docs"
   ]
  },
  {
   "cell_type": "code",
   "execution_count": 31,
   "id": "71371053-0762-4e33-84a9-89b54a8c44b4",
   "metadata": {},
   "outputs": [],
   "source": [
    "chunks = context_text_splitter_with_llm(documents, 100, 200, 1200)"
   ]
  },
  {
   "cell_type": "code",
   "execution_count": 32,
   "id": "71a8c7bb-b332-497a-a681-98e12194198d",
   "metadata": {},
   "outputs": [
    {
     "name": "stdout",
     "output_type": "stream",
     "text": [
      " The Amanita phalloides has a large and imposing epigeous (above ground) fruiting body (basidiocrap).A mushroom with a large fruiting body is the Amanita phalloides. Some varieties are all white. AA. Phalloides, a.k.a Death Cap, is one of the most poisonous of all known mushrooms.\n",
      "-----\n",
      " Gala apples are a popular variety known for their sweet flavor and crisp texture.They have a distinctive reddish-orange skin with yellow striping, making them visually appealing in fruit displays. Originally developed in New Zealand in the 1930s, they have since become a favorite in many countries and are widely cultivated for consumption. Their versatility makes them perfect for both eating fresh and using in various culinary dishes.\n",
      "-----\n",
      " Radishes are small, root vegetables with a sharp, peppery flavor that can range from mild to spicy.They are usually round or cylindrical in shape and can come in various colors, including red, white, purple, and black. Rich in vitamins and minerals, radishes are often consumed raw in salads, but can also be cooked or pickled for different culinary applications. Their crunchy texture and vibrant color make them a popular addition to dishes, adding both taste and aesthetic appeal.\n",
      "-----\n"
     ]
    }
   ],
   "source": [
    "for chunk in chunks:\n",
    "    print(chunk.page_content)\n",
    "    print(\"-----\")"
   ]
  },
  {
   "cell_type": "markdown",
   "id": "0754614c-c7ae-4613-aa3b-6897ccff16c6",
   "metadata": {},
   "source": [
    "### Index into Chroma DB"
   ]
  },
  {
   "cell_type": "code",
   "execution_count": 33,
   "id": "7e779d3d-08ce-41bf-b3c8-f991dc248ca1",
   "metadata": {},
   "outputs": [],
   "source": [
    "import chromadb\n",
    "\n",
    "# Initialize ChromaDB client\n",
    "client = chromadb.Client()\n",
    "\n",
    "# Access a specific collection\n",
    "collection_name = \"langchain\"\n",
    "client.delete_collection(collection_name)"
   ]
  },
  {
   "cell_type": "code",
   "execution_count": 34,
   "id": "0f7c7e8e-14b6-4bcd-9c13-ead5b2d98e52",
   "metadata": {},
   "outputs": [],
   "source": [
    "vectorstore = Chroma.from_documents(documents=chunks, embedding=OpenAIEmbeddings())"
   ]
  },
  {
   "cell_type": "markdown",
   "id": "164e6d8f-3f49-4ee2-993a-cd34d4bac834",
   "metadata": {},
   "source": [
    "### Test default retrieval"
   ]
  },
  {
   "cell_type": "code",
   "execution_count": 35,
   "id": "0e557977-4fdc-449f-8353-ed5500df2a55",
   "metadata": {},
   "outputs": [],
   "source": [
    "retriever = vectorstore.as_retriever(search_type=\"similarity\", search_kwargs={\"k\": 1})"
   ]
  },
  {
   "cell_type": "code",
   "execution_count": 36,
   "id": "1d9e1dcc-8ac8-4a24-85bf-e1016aa90b37",
   "metadata": {},
   "outputs": [],
   "source": [
    "rag_chain = (\n",
    "    {\"context\": retriever | format_docs, \"question\": RunnablePassthrough()}\n",
    "    | prompt\n",
    "    | llm\n",
    "    | StrOutputParser()\n",
    ")"
   ]
  },
  {
   "cell_type": "code",
   "execution_count": 37,
   "id": "7f91f435-3dee-4d1f-aff4-489d4b26c6ca",
   "metadata": {},
   "outputs": [
    {
     "data": {
      "text/plain": [
       "'Amanita phalloides, also known as the Death Cap, is one of the most poisonous mushrooms known. It has a large and imposing fruiting body, and some varieties are all white.'"
      ]
     },
     "execution_count": 37,
     "metadata": {},
     "output_type": "execute_result"
    }
   ],
   "source": [
    "rag_chain.invoke(\"tell me about Amanita phalloides\")"
   ]
  },
  {
   "cell_type": "code",
   "execution_count": null,
   "id": "fa45e53a-01dd-47bb-8f62-96ec902c2c3e",
   "metadata": {},
   "outputs": [],
   "source": []
  },
  {
   "cell_type": "code",
   "execution_count": null,
   "id": "47f69470-7de3-4bf4-a32c-1973918c3db4",
   "metadata": {},
   "outputs": [],
   "source": []
  },
  {
   "cell_type": "markdown",
   "id": "b2855c14-5943-47c9-b25c-2b458f6a9b7c",
   "metadata": {},
   "source": [
    "## Bonus Vector Similarity"
   ]
  },
  {
   "cell_type": "code",
   "execution_count": null,
   "id": "43c8f268-e0fe-4ac2-a91a-c5f575f7a57c",
   "metadata": {},
   "outputs": [],
   "source": [
    "embeddings = OpenAIEmbeddings()"
   ]
  },
  {
   "cell_type": "code",
   "execution_count": null,
   "id": "cc637277-9c83-4117-8d25-a9d8c41f9613",
   "metadata": {},
   "outputs": [],
   "source": [
    "v1 = embeddings.embed_documents(texts=[\"Apple\"])[0]\n",
    "v2 = embeddings.embed_documents(texts=[\"Orange\"])[0]"
   ]
  },
  {
   "cell_type": "code",
   "execution_count": null,
   "id": "97901239-8fe7-41bb-844a-19c189f94170",
   "metadata": {},
   "outputs": [],
   "source": [
    "from scipy.spatial.distance import cosine\n",
    "def cosine_similarity(vec1, vec2):\n",
    "    \"\"\"Compute the cosine similarity between two vectors using SciPy.\"\"\"\n",
    "    return 1 - cosine(vec1, vec2)  # cosine function from SciPy computes the distance, not similarity"
   ]
  },
  {
   "cell_type": "code",
   "execution_count": null,
   "id": "4b4be36f-aa26-47c2-bd1d-c94539879104",
   "metadata": {},
   "outputs": [],
   "source": [
    "cosine_similarity(v1, v2)"
   ]
  },
  {
   "cell_type": "code",
   "execution_count": null,
   "id": "5a37b0c6-4373-49e7-af64-db1fdb1e8848",
   "metadata": {},
   "outputs": [],
   "source": [
    "from langchain_core.documents import Document\n",
    "def context_text_splitter(documents, step_size, chunk_size, max_chunk_size):\n",
    "    # Split the text\n",
    "    # Ensure you have RecursiveCharacterTextSplitter defined and available\n",
    "    text_splitter = RecursiveCharacterTextSplitter(chunk_size=step_size, chunk_overlap=0)\n",
    "\n",
    "    docs = text_splitter.split_documents(documents)\n",
    "\n",
    "    step_chunks = [doc.page_content for doc in docs]\n",
    "    step_metadata = [doc.metadata for doc in docs]\n",
    "\n",
    "    merged_chunks = []\n",
    "    merged_metadata_chunks = []\n",
    "\n",
    "    while len(step_chunks) > 0:\n",
    "        if len(''.join(step_chunks)) < chunk_size:\n",
    "            break\n",
    "        \n",
    "        current_chunk = ''.join(step_chunks[:chunk_size//step_size])\n",
    "        current_metadata = merge_metadata(step_metadata[:chunk_size//step_size])\n",
    "        \n",
    "        step_chunks = step_chunks[chunk_size//step_size:]\n",
    "        step_metadata = step_metadata[chunk_size//step_size:]\n",
    "\n",
    "        chunk_appended = False\n",
    "\n",
    "        while len(step_chunks) > 0:\n",
    "            next_step_chunk = step_chunks.pop(0)\n",
    "            next_step_chunk_metadata = step_metadata.pop(0)\n",
    "\n",
    "            similarity_score = cosine_similarity(embeddings.embed_query(current_chunk), embeddings.embed_query(next_step_chunk))\n",
    "\n",
    "            if similarity_score > 0.79 and len(current_chunk) + len(next_step_chunk) <= max_chunk_size:\n",
    "                current_chunk += \" \" + next_step_chunk\n",
    "                current_metadata = merge_metadata([current_metadata, next_step_chunk_metadata])\n",
    "            else:\n",
    "                merged_chunks.append(\" \" + current_chunk)\n",
    "                merged_metadata_chunks.append(current_metadata)\n",
    "                \n",
    "                chunk_appended = True\n",
    "                \n",
    "                step_chunks.insert(0, next_step_chunk)\n",
    "                step_metadata.insert(0, next_step_chunk_metadata)\n",
    "                \n",
    "                break\n",
    "\n",
    "        if not chunk_appended:\n",
    "            merged_chunks.append(\" \" + current_chunk)\n",
    "            merged_metadata_chunks.append(current_metadata)\n",
    "\n",
    "    if len(step_chunks) > 0:\n",
    "        merged_chunks.append(' '.join(step_chunks))\n",
    "        merged_metadata_chunks.append(merge_metadata(step_metadata))\n",
    "\n",
    "    merged_docs = []\n",
    "    for chunk, metadata in zip(merged_chunks, merged_metadata_chunks):\n",
    "        merged_docs.append(Document(page_content=chunk, metadata=metadata))\n",
    "\n",
    "    return merged_docs"
   ]
  },
  {
   "cell_type": "code",
   "execution_count": null,
   "id": "9c8e508d-a157-4e32-ba42-ef4a73b748fc",
   "metadata": {},
   "outputs": [],
   "source": [
    "chunks = context_text_splitter(documents, 100, 200, 1200)"
   ]
  },
  {
   "cell_type": "code",
   "execution_count": null,
   "id": "50df9e23-5251-4391-bbf4-f9b77f36bede",
   "metadata": {},
   "outputs": [],
   "source": [
    "for chunk in chunks:\n",
    "    print(chunk.page_content)\n",
    "    print(\"-----\")"
   ]
  },
  {
   "cell_type": "code",
   "execution_count": null,
   "id": "b4e9e2bc-c7fd-42f9-842d-20bc9ba83d8d",
   "metadata": {},
   "outputs": [],
   "source": []
  }
 ],
 "metadata": {
  "kernelspec": {
   "display_name": "Python 3 (ipykernel)",
   "language": "python",
   "name": "python3"
  },
  "language_info": {
   "codemirror_mode": {
    "name": "ipython",
    "version": 3
   },
   "file_extension": ".py",
   "mimetype": "text/x-python",
   "name": "python",
   "nbconvert_exporter": "python",
   "pygments_lexer": "ipython3",
   "version": "3.11.4"
  },
  "toc": {
   "base_numbering": 1,
   "nav_menu": {},
   "number_sections": true,
   "sideBar": true,
   "skip_h1_title": false,
   "title_cell": "Table of Contents",
   "title_sidebar": "Contents",
   "toc_cell": false,
   "toc_position": {},
   "toc_section_display": true,
   "toc_window_display": false
  }
 },
 "nbformat": 4,
 "nbformat_minor": 5
}
